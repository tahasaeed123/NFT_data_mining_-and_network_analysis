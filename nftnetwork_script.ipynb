{
  "cells": [
    {
      "cell_type": "code",
      "execution_count": 1,
      "id": "5ce132ad",
      "metadata": {
        "id": "5ce132ad"
      },
      "outputs": [],
      "source": [
        "import sqlite3\n",
        "import pandas as pd \n",
        "import networkx as nx\n",
        "from pyvis.network import Network"
      ]
    },
    {
      "cell_type": "code",
      "execution_count": 2,
      "id": "9685ce66",
      "metadata": {
        "id": "9685ce66"
      },
      "outputs": [],
      "source": [
        "con = sqlite3.connect('/Users/yanlinzhang/Desktop/Data Visualization/Group_Y_NFT/data/nfts.sqlite')\n",
        "cur = con.cursor()"
      ]
    },
    {
      "cell_type": "code",
      "execution_count": 3,
      "id": "245fc4e5",
      "metadata": {
        "id": "245fc4e5"
      },
      "outputs": [],
      "source": [
        "# Get a list of the 5 biggest projects\n",
        "# get volume of transfers and sort\n",
        "df1 = pd.read_sql_query(\"\"\"\n",
        "                        SELECT name, nft_address, SUM(transaction_value/1e18) AS volume\n",
        "                        FROM transfers \n",
        "                        INNER JOIN nfts ON transfers.nft_address = nfts.address \n",
        "                        GROUP BY transfers.nft_address\n",
        "                        ORDER BY volume DESC\n",
        "                        LIMIT 5\n",
        "                        \"\"\", con)"
      ]
    },
    {
      "cell_type": "code",
      "execution_count": 4,
      "id": "cfd59c9b",
      "metadata": {
        "id": "cfd59c9b"
      },
      "outputs": [],
      "source": [
        "# nft contract adress dictionary \n",
        "contract_names_dict = dict(zip(df1.nft_address, df1.name))\n",
        "# address tuple\n",
        "contracts = tuple(contract_names_dict.keys())"
      ]
    },
    {
      "cell_type": "code",
      "execution_count": 5,
      "id": "e7d28f57",
      "metadata": {
        "id": "e7d28f57"
      },
      "outputs": [],
      "source": [
        "# Get a list of all of the nft project names and addresses\n",
        "all_project_names = pd.read_sql_query(\"\"\"\n",
        "                        SELECT * FROM nfts\n",
        "                        LIMIT 100000\n",
        "                        \"\"\", con)"
      ]
    },
    {
      "cell_type": "code",
      "execution_count": 6,
      "id": "54a5e407",
      "metadata": {
        "id": "54a5e407"
      },
      "outputs": [],
      "source": [
        "# make a dictionary to map names to contractgs \n",
        "contract_names_dict_all = dict(zip(all_project_names['address'], all_project_names['name']))"
      ]
    },
    {
      "cell_type": "code",
      "execution_count": 7,
      "id": "10b4be5e",
      "metadata": {
        "id": "10b4be5e"
      },
      "outputs": [],
      "source": [
        "# See what wallets own products in all proudcts\n",
        "# Take the top n wallet owners\n",
        "top_n_owners_list = pd.read_sql_query(\"\"\"\n",
        "                            SELECT COUNT(DISTINCT nft_address) AS num_projects , owner\n",
        "                            FROM current_owners\n",
        "                            WHERE nft_address IN  {}\n",
        "                            GROUP BY owner\n",
        "                            ORDER BY num_projects DESC\n",
        "                            LIMIT 3  \n",
        "                            \"\"\".format(contracts), con) "
      ]
    },
    {
      "cell_type": "code",
      "execution_count": 8,
      "id": "d39ed87f",
      "metadata": {
        "id": "d39ed87f"
      },
      "outputs": [],
      "source": [
        "# Create tuple for these \"big owners\"\n",
        "owners_tuples = tuple( top_n_owners_list['owner'])"
      ]
    },
    {
      "cell_type": "code",
      "execution_count": 9,
      "id": "88fe5b4d",
      "metadata": {
        "id": "88fe5b4d"
      },
      "outputs": [],
      "source": [
        "# Go through the big owners wallet and see everything they own\n",
        "top_projects = pd.read_sql_query(\"\"\"\n",
        "                        SELECT nft_address, COUNT(owner) AS count FROM current_owners\n",
        "                        WHERE owner IN {}\n",
        "                        GROUP BY nft_address\n",
        "                        ORDER BY count DESC\n",
        "                        LIMIT 50000\n",
        "                        \"\"\".format(owners_tuples), con) "
      ]
    },
    {
      "cell_type": "code",
      "execution_count": 10,
      "id": "ef6564db",
      "metadata": {
        "id": "ef6564db"
      },
      "outputs": [],
      "source": [
        "top_projects_tuple = tuple(top_projects['nft_address'])"
      ]
    },
    {
      "cell_type": "code",
      "execution_count": 11,
      "id": "c61e2e5a",
      "metadata": {
        "id": "c61e2e5a"
      },
      "outputs": [],
      "source": [
        "# get all the NFTs for those top projects\n",
        "all_nfts_in_top_projects = pd.read_sql_query(\"\"\"\n",
        "                        SELECT * FROM current_owners\n",
        "                        WHERE nft_address IN {}\n",
        "                        \"\"\".format(top_projects_tuple), con) "
      ]
    },
    {
      "cell_type": "code",
      "execution_count": 12,
      "id": "35f59167",
      "metadata": {
        "id": "35f59167"
      },
      "outputs": [],
      "source": [
        "# Create the edge table\n",
        "edge_table = pd.read_sql_query(\"\"\"\n",
        "                        SELECT t1.nft_address AS NFT1, t2.nft_address AS NFT2, COUNT(*) AS COUNT\n",
        "                        FROM current_owners AS t1\n",
        "                        INNER JOIN current_owners AS t2\n",
        "                        ON t1.owner = t2.owner\n",
        "                        \n",
        "                        WHERE t1.owner in {}\n",
        "                        AND\n",
        "                        NFT1 < NFT2\n",
        "                       \n",
        "                        GROUP BY NFT1, NFT2\n",
        "                        HAVING COUNT(*) > 50\n",
        "                        \"\"\".format(owners_tuples), con)"
      ]
    },
    {
      "cell_type": "code",
      "execution_count": 13,
      "id": "58051376",
      "metadata": {
        "id": "58051376"
      },
      "outputs": [],
      "source": [
        "# Adding the names instead of the contract\n",
        "edge_table['NFT1'] = edge_table['NFT1'].map(contract_names_dict_all)\n",
        "edge_table['NFT2'] = edge_table['NFT2'].map(contract_names_dict_all)"
      ]
    },
    {
      "cell_type": "code",
      "execution_count": 14,
      "id": "286ddf4e",
      "metadata": {
        "id": "286ddf4e"
      },
      "outputs": [],
      "source": [
        "# get rid of empty nodes\n",
        "edge_table = edge_table.dropna()"
      ]
    },
    {
      "cell_type": "code",
      "execution_count": 15,
      "id": "b08597c2",
      "metadata": {
        "id": "b08597c2"
      },
      "outputs": [],
      "source": [
        "# Rename columns\n",
        "edge_table.columns = ['Source','Target','Weight']\n",
        "\n",
        "sources = edge_table['Source']\n",
        "targets = edge_table['Target']\n",
        "weights = edge_table['Weight']\n",
        "edge_data = zip(sources, targets, weights)"
      ]
    },
    {
      "cell_type": "code",
      "execution_count": 16,
      "id": "10a84d12",
      "metadata": {
        "id": "10a84d12"
      },
      "outputs": [],
      "source": [
        "# Start Visualization\n",
        "network_graph = Network(height='750px', width='100%', bgcolor='#222222', font_color='white')"
      ]
    },
    {
      "cell_type": "code",
      "execution_count": 17,
      "id": "aebd06bc",
      "metadata": {
        "id": "aebd06bc"
      },
      "outputs": [],
      "source": [
        "# Adding all the partys \n",
        "for e in edge_data:\n",
        "    src = e[0]\n",
        "    dst = e[1]\n",
        "    w = e[2]\n",
        "\n",
        "    network_graph.add_node(src, src, title=src)\n",
        "    network_graph.add_node(dst, dst, title=dst)\n",
        "    network_graph.add_edge(src, dst, value=w)"
      ]
    },
    {
      "cell_type": "code",
      "execution_count": 18,
      "id": "425c5966",
      "metadata": {
        "id": "425c5966"
      },
      "outputs": [],
      "source": [
        "# add neighbor data to node hover data\n",
        "neighbor_map = network_graph.get_adj_list()\n",
        "for node in network_graph.nodes:\n",
        "    node['title'] += ' Neighbors:<br>' + '<br>'.join(neighbor_map[node['id']])\n",
        "    node['value'] = len(neighbor_map[node['id']])"
      ]
    },
    {
      "cell_type": "code",
      "execution_count": 19,
      "id": "c4b7e8b6",
      "metadata": {
        "id": "c4b7e8b6"
      },
      "outputs": [],
      "source": [
        "# display graph\n",
        "network_graph.show('NFTMap.html')"
      ]
    },
    {
      "cell_type": "code",
      "execution_count": null,
      "id": "84e52671",
      "metadata": {
        "id": "84e52671"
      },
      "outputs": [],
      "source": []
    }
  ],
  "metadata": {
    "colab": {
      "name": "nftsna.ipynb",
      "provenance": []
    },
    "kernelspec": {
      "display_name": "Python 3",
      "language": "python",
      "name": "python3"
    },
    "language_info": {
      "codemirror_mode": {
        "name": "ipython",
        "version": 3
      },
      "file_extension": ".py",
      "mimetype": "text/x-python",
      "name": "python",
      "nbconvert_exporter": "python",
      "pygments_lexer": "ipython3",
      "version": "3.8.8"
    }
  },
  "nbformat": 4,
  "nbformat_minor": 5
}
